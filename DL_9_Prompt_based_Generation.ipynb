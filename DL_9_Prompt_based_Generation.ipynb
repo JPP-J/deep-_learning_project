{
 "cells": [
  {
   "cell_type": "code",
   "execution_count": null,
   "metadata": {
    "colab": {
     "base_uri": "https://localhost:8080/"
    },
    "id": "LWlpgp6SI32f",
    "outputId": "6dad256f-f090-4a5f-d6f4-b53c81d93170"
   },
   "outputs": [
    {
     "name": "stdout",
     "output_type": "stream",
     "text": [
      "Sat May 10 07:42:07 2025       \n",
      "+-----------------------------------------------------------------------------------------+\n",
      "| NVIDIA-SMI 550.54.15              Driver Version: 550.54.15      CUDA Version: 12.4     |\n",
      "|-----------------------------------------+------------------------+----------------------+\n",
      "| GPU  Name                 Persistence-M | Bus-Id          Disp.A | Volatile Uncorr. ECC |\n",
      "| Fan  Temp   Perf          Pwr:Usage/Cap |           Memory-Usage | GPU-Util  Compute M. |\n",
      "|                                         |                        |               MIG M. |\n",
      "|=========================================+========================+======================|\n",
      "|   0  Tesla T4                       Off |   00000000:00:04.0 Off |                    0 |\n",
      "| N/A   61C    P8             11W /   70W |       0MiB /  15360MiB |      0%      Default |\n",
      "|                                         |                        |                  N/A |\n",
      "+-----------------------------------------+------------------------+----------------------+\n",
      "                                                                                         \n",
      "+-----------------------------------------------------------------------------------------+\n",
      "| Processes:                                                                              |\n",
      "|  GPU   GI   CI        PID   Type   Process name                              GPU Memory |\n",
      "|        ID   ID                                                               Usage      |\n",
      "|=========================================================================================|\n",
      "|  No running processes found                                                             |\n",
      "+-----------------------------------------------------------------------------------------+\n"
     ]
    }
   ],
   "source": [
    "! nvidia-smi"
   ]
  },
  {
   "cell_type": "code",
   "execution_count": null,
   "metadata": {
    "colab": {
     "base_uri": "https://localhost:8080/"
    },
    "collapsed": true,
    "id": "agDQAno7I-LZ",
    "outputId": "bc756a7d-72b6-4b6d-adce-34005e4fab15"
   },
   "outputs": [
    {
     "name": "stdout",
     "output_type": "stream",
     "text": [
      "Requirement already satisfied: transformers in /usr/local/lib/python3.11/dist-packages (4.51.3)\n",
      "Requirement already satisfied: filelock in /usr/local/lib/python3.11/dist-packages (from transformers) (3.18.0)\n",
      "Requirement already satisfied: huggingface-hub<1.0,>=0.30.0 in /usr/local/lib/python3.11/dist-packages (from transformers) (0.30.2)\n",
      "Requirement already satisfied: numpy>=1.17 in /usr/local/lib/python3.11/dist-packages (from transformers) (2.0.2)\n",
      "Requirement already satisfied: packaging>=20.0 in /usr/local/lib/python3.11/dist-packages (from transformers) (24.2)\n",
      "Requirement already satisfied: pyyaml>=5.1 in /usr/local/lib/python3.11/dist-packages (from transformers) (6.0.2)\n",
      "Requirement already satisfied: regex!=2019.12.17 in /usr/local/lib/python3.11/dist-packages (from transformers) (2024.11.6)\n",
      "Requirement already satisfied: requests in /usr/local/lib/python3.11/dist-packages (from transformers) (2.32.3)\n",
      "Requirement already satisfied: tokenizers<0.22,>=0.21 in /usr/local/lib/python3.11/dist-packages (from transformers) (0.21.1)\n",
      "Requirement already satisfied: safetensors>=0.4.3 in /usr/local/lib/python3.11/dist-packages (from transformers) (0.5.3)\n",
      "Requirement already satisfied: tqdm>=4.27 in /usr/local/lib/python3.11/dist-packages (from transformers) (4.67.1)\n",
      "Requirement already satisfied: fsspec>=2023.5.0 in /usr/local/lib/python3.11/dist-packages (from huggingface-hub<1.0,>=0.30.0->transformers) (2025.3.2)\n",
      "Requirement already satisfied: typing-extensions>=3.7.4.3 in /usr/local/lib/python3.11/dist-packages (from huggingface-hub<1.0,>=0.30.0->transformers) (4.13.2)\n",
      "Requirement already satisfied: charset-normalizer<4,>=2 in /usr/local/lib/python3.11/dist-packages (from requests->transformers) (3.4.1)\n",
      "Requirement already satisfied: idna<4,>=2.5 in /usr/local/lib/python3.11/dist-packages (from requests->transformers) (3.10)\n",
      "Requirement already satisfied: urllib3<3,>=1.21.1 in /usr/local/lib/python3.11/dist-packages (from requests->transformers) (2.4.0)\n",
      "Requirement already satisfied: certifi>=2017.4.17 in /usr/local/lib/python3.11/dist-packages (from requests->transformers) (2025.4.26)\n",
      "Looking in indexes: https://download.pytorch.org/whl/cu121\n",
      "Requirement already satisfied: torch in /usr/local/lib/python3.11/dist-packages (2.5.1+cu121)\n",
      "Requirement already satisfied: torchvision in /usr/local/lib/python3.11/dist-packages (0.20.1+cu121)\n",
      "Requirement already satisfied: torchaudio in /usr/local/lib/python3.11/dist-packages (2.5.1+cu121)\n",
      "Requirement already satisfied: filelock in /usr/local/lib/python3.11/dist-packages (from torch) (3.18.0)\n",
      "Requirement already satisfied: typing-extensions>=4.8.0 in /usr/local/lib/python3.11/dist-packages (from torch) (4.13.2)\n",
      "Requirement already satisfied: networkx in /usr/local/lib/python3.11/dist-packages (from torch) (3.4.2)\n",
      "Requirement already satisfied: jinja2 in /usr/local/lib/python3.11/dist-packages (from torch) (3.1.6)\n",
      "Requirement already satisfied: fsspec in /usr/local/lib/python3.11/dist-packages (from torch) (2025.3.2)\n",
      "Requirement already satisfied: nvidia-cuda-nvrtc-cu12==12.1.105 in /usr/local/lib/python3.11/dist-packages (from torch) (12.1.105)\n",
      "Requirement already satisfied: nvidia-cuda-runtime-cu12==12.1.105 in /usr/local/lib/python3.11/dist-packages (from torch) (12.1.105)\n",
      "Requirement already satisfied: nvidia-cuda-cupti-cu12==12.1.105 in /usr/local/lib/python3.11/dist-packages (from torch) (12.1.105)\n",
      "Requirement already satisfied: nvidia-cudnn-cu12==9.1.0.70 in /usr/local/lib/python3.11/dist-packages (from torch) (9.1.0.70)\n",
      "Requirement already satisfied: nvidia-cublas-cu12==12.1.3.1 in /usr/local/lib/python3.11/dist-packages (from torch) (12.1.3.1)\n",
      "Requirement already satisfied: nvidia-cufft-cu12==11.0.2.54 in /usr/local/lib/python3.11/dist-packages (from torch) (11.0.2.54)\n",
      "Requirement already satisfied: nvidia-curand-cu12==10.3.2.106 in /usr/local/lib/python3.11/dist-packages (from torch) (10.3.2.106)\n",
      "Requirement already satisfied: nvidia-cusolver-cu12==11.4.5.107 in /usr/local/lib/python3.11/dist-packages (from torch) (11.4.5.107)\n",
      "Requirement already satisfied: nvidia-cusparse-cu12==12.1.0.106 in /usr/local/lib/python3.11/dist-packages (from torch) (12.1.0.106)\n",
      "Requirement already satisfied: nvidia-nccl-cu12==2.21.5 in /usr/local/lib/python3.11/dist-packages (from torch) (2.21.5)\n",
      "Requirement already satisfied: nvidia-nvtx-cu12==12.1.105 in /usr/local/lib/python3.11/dist-packages (from torch) (12.1.105)\n",
      "Requirement already satisfied: triton==3.1.0 in /usr/local/lib/python3.11/dist-packages (from torch) (3.1.0)\n",
      "Requirement already satisfied: sympy==1.13.1 in /usr/local/lib/python3.11/dist-packages (from torch) (1.13.1)\n",
      "Requirement already satisfied: nvidia-nvjitlink-cu12 in /usr/local/lib/python3.11/dist-packages (from nvidia-cusolver-cu12==11.4.5.107->torch) (12.5.82)\n",
      "Requirement already satisfied: mpmath<1.4,>=1.1.0 in /usr/local/lib/python3.11/dist-packages (from sympy==1.13.1->torch) (1.3.0)\n",
      "Requirement already satisfied: numpy in /usr/local/lib/python3.11/dist-packages (from torchvision) (2.0.2)\n",
      "Requirement already satisfied: pillow!=8.3.*,>=5.3.0 in /usr/local/lib/python3.11/dist-packages (from torchvision) (11.2.1)\n",
      "Requirement already satisfied: MarkupSafe>=2.0 in /usr/local/lib/python3.11/dist-packages (from jinja2->torch) (3.0.2)\n",
      "Requirement already satisfied: accelerate in /usr/local/lib/python3.11/dist-packages (1.6.0)\n",
      "Requirement already satisfied: numpy<3.0.0,>=1.17 in /usr/local/lib/python3.11/dist-packages (from accelerate) (2.0.2)\n",
      "Requirement already satisfied: packaging>=20.0 in /usr/local/lib/python3.11/dist-packages (from accelerate) (24.2)\n",
      "Requirement already satisfied: psutil in /usr/local/lib/python3.11/dist-packages (from accelerate) (5.9.5)\n",
      "Requirement already satisfied: pyyaml in /usr/local/lib/python3.11/dist-packages (from accelerate) (6.0.2)\n",
      "Requirement already satisfied: torch>=2.0.0 in /usr/local/lib/python3.11/dist-packages (from accelerate) (2.5.1+cu121)\n",
      "Requirement already satisfied: huggingface-hub>=0.21.0 in /usr/local/lib/python3.11/dist-packages (from accelerate) (0.30.2)\n",
      "Requirement already satisfied: safetensors>=0.4.3 in /usr/local/lib/python3.11/dist-packages (from accelerate) (0.5.3)\n",
      "Requirement already satisfied: filelock in /usr/local/lib/python3.11/dist-packages (from huggingface-hub>=0.21.0->accelerate) (3.18.0)\n",
      "Requirement already satisfied: fsspec>=2023.5.0 in /usr/local/lib/python3.11/dist-packages (from huggingface-hub>=0.21.0->accelerate) (2025.3.2)\n",
      "Requirement already satisfied: requests in /usr/local/lib/python3.11/dist-packages (from huggingface-hub>=0.21.0->accelerate) (2.32.3)\n",
      "Requirement already satisfied: tqdm>=4.42.1 in /usr/local/lib/python3.11/dist-packages (from huggingface-hub>=0.21.0->accelerate) (4.67.1)\n",
      "Requirement already satisfied: typing-extensions>=3.7.4.3 in /usr/local/lib/python3.11/dist-packages (from huggingface-hub>=0.21.0->accelerate) (4.13.2)\n",
      "Requirement already satisfied: networkx in /usr/local/lib/python3.11/dist-packages (from torch>=2.0.0->accelerate) (3.4.2)\n",
      "Requirement already satisfied: jinja2 in /usr/local/lib/python3.11/dist-packages (from torch>=2.0.0->accelerate) (3.1.6)\n",
      "Requirement already satisfied: nvidia-cuda-nvrtc-cu12==12.1.105 in /usr/local/lib/python3.11/dist-packages (from torch>=2.0.0->accelerate) (12.1.105)\n",
      "Requirement already satisfied: nvidia-cuda-runtime-cu12==12.1.105 in /usr/local/lib/python3.11/dist-packages (from torch>=2.0.0->accelerate) (12.1.105)\n",
      "Requirement already satisfied: nvidia-cuda-cupti-cu12==12.1.105 in /usr/local/lib/python3.11/dist-packages (from torch>=2.0.0->accelerate) (12.1.105)\n",
      "Requirement already satisfied: nvidia-cudnn-cu12==9.1.0.70 in /usr/local/lib/python3.11/dist-packages (from torch>=2.0.0->accelerate) (9.1.0.70)\n",
      "Requirement already satisfied: nvidia-cublas-cu12==12.1.3.1 in /usr/local/lib/python3.11/dist-packages (from torch>=2.0.0->accelerate) (12.1.3.1)\n",
      "Requirement already satisfied: nvidia-cufft-cu12==11.0.2.54 in /usr/local/lib/python3.11/dist-packages (from torch>=2.0.0->accelerate) (11.0.2.54)\n",
      "Requirement already satisfied: nvidia-curand-cu12==10.3.2.106 in /usr/local/lib/python3.11/dist-packages (from torch>=2.0.0->accelerate) (10.3.2.106)\n",
      "Requirement already satisfied: nvidia-cusolver-cu12==11.4.5.107 in /usr/local/lib/python3.11/dist-packages (from torch>=2.0.0->accelerate) (11.4.5.107)\n",
      "Requirement already satisfied: nvidia-cusparse-cu12==12.1.0.106 in /usr/local/lib/python3.11/dist-packages (from torch>=2.0.0->accelerate) (12.1.0.106)\n",
      "Requirement already satisfied: nvidia-nccl-cu12==2.21.5 in /usr/local/lib/python3.11/dist-packages (from torch>=2.0.0->accelerate) (2.21.5)\n",
      "Requirement already satisfied: nvidia-nvtx-cu12==12.1.105 in /usr/local/lib/python3.11/dist-packages (from torch>=2.0.0->accelerate) (12.1.105)\n",
      "Requirement already satisfied: triton==3.1.0 in /usr/local/lib/python3.11/dist-packages (from torch>=2.0.0->accelerate) (3.1.0)\n",
      "Requirement already satisfied: sympy==1.13.1 in /usr/local/lib/python3.11/dist-packages (from torch>=2.0.0->accelerate) (1.13.1)\n",
      "Requirement already satisfied: nvidia-nvjitlink-cu12 in /usr/local/lib/python3.11/dist-packages (from nvidia-cusolver-cu12==11.4.5.107->torch>=2.0.0->accelerate) (12.5.82)\n",
      "Requirement already satisfied: mpmath<1.4,>=1.1.0 in /usr/local/lib/python3.11/dist-packages (from sympy==1.13.1->torch>=2.0.0->accelerate) (1.3.0)\n",
      "Requirement already satisfied: MarkupSafe>=2.0 in /usr/local/lib/python3.11/dist-packages (from jinja2->torch>=2.0.0->accelerate) (3.0.2)\n",
      "Requirement already satisfied: charset-normalizer<4,>=2 in /usr/local/lib/python3.11/dist-packages (from requests->huggingface-hub>=0.21.0->accelerate) (3.4.1)\n",
      "Requirement already satisfied: idna<4,>=2.5 in /usr/local/lib/python3.11/dist-packages (from requests->huggingface-hub>=0.21.0->accelerate) (3.10)\n",
      "Requirement already satisfied: urllib3<3,>=1.21.1 in /usr/local/lib/python3.11/dist-packages (from requests->huggingface-hub>=0.21.0->accelerate) (2.4.0)\n",
      "Requirement already satisfied: certifi>=2017.4.17 in /usr/local/lib/python3.11/dist-packages (from requests->huggingface-hub>=0.21.0->accelerate) (2025.4.26)\n",
      "Requirement already satisfied: huggingface_hub in /usr/local/lib/python3.11/dist-packages (0.30.2)\n",
      "Requirement already satisfied: filelock in /usr/local/lib/python3.11/dist-packages (from huggingface_hub) (3.18.0)\n",
      "Requirement already satisfied: fsspec>=2023.5.0 in /usr/local/lib/python3.11/dist-packages (from huggingface_hub) (2025.3.2)\n",
      "Requirement already satisfied: packaging>=20.9 in /usr/local/lib/python3.11/dist-packages (from huggingface_hub) (24.2)\n",
      "Requirement already satisfied: pyyaml>=5.1 in /usr/local/lib/python3.11/dist-packages (from huggingface_hub) (6.0.2)\n",
      "Requirement already satisfied: requests in /usr/local/lib/python3.11/dist-packages (from huggingface_hub) (2.32.3)\n",
      "Requirement already satisfied: tqdm>=4.42.1 in /usr/local/lib/python3.11/dist-packages (from huggingface_hub) (4.67.1)\n",
      "Requirement already satisfied: typing-extensions>=3.7.4.3 in /usr/local/lib/python3.11/dist-packages (from huggingface_hub) (4.13.2)\n",
      "Requirement already satisfied: charset-normalizer<4,>=2 in /usr/local/lib/python3.11/dist-packages (from requests->huggingface_hub) (3.4.1)\n",
      "Requirement already satisfied: idna<4,>=2.5 in /usr/local/lib/python3.11/dist-packages (from requests->huggingface_hub) (3.10)\n",
      "Requirement already satisfied: urllib3<3,>=1.21.1 in /usr/local/lib/python3.11/dist-packages (from requests->huggingface_hub) (2.4.0)\n",
      "Requirement already satisfied: certifi>=2017.4.17 in /usr/local/lib/python3.11/dist-packages (from requests->huggingface_hub) (2025.4.26)\n"
     ]
    }
   ],
   "source": [
    "!pip install transformers\n",
    "!pip install torch torchvision torchaudio --index-url https://download.pytorch.org/whl/cu121\n",
    "!pip install accelerate\n",
    "!pip install huggingface_hub"
   ]
  },
  {
   "cell_type": "code",
   "execution_count": null,
   "metadata": {
    "colab": {
     "base_uri": "https://localhost:8080/"
    },
    "id": "UOke9zz_Pzj6",
    "outputId": "89e17b77-b89b-4cbd-f1af-1b92b3fcae2a"
   },
   "outputs": [
    {
     "name": "stdout",
     "output_type": "stream",
     "text": [
      "Requirement already satisfied: rich in /usr/local/lib/python3.11/dist-packages (13.9.4)\n",
      "Requirement already satisfied: markdown-it-py>=2.2.0 in /usr/local/lib/python3.11/dist-packages (from rich) (3.0.0)\n",
      "Requirement already satisfied: pygments<3.0.0,>=2.13.0 in /usr/local/lib/python3.11/dist-packages (from rich) (2.19.1)\n",
      "Requirement already satisfied: mdurl~=0.1 in /usr/local/lib/python3.11/dist-packages (from markdown-it-py>=2.2.0->rich) (0.1.2)\n"
     ]
    }
   ],
   "source": [
    "! pip install rich"
   ]
  },
  {
   "cell_type": "markdown",
   "metadata": {
    "id": "YOTdjVAPUMb_"
   },
   "source": [
    "## model name\n",
    "in this notebook will use ***Qwen/Qwen2.5-Coder-1.5B-Instruct*** cause small usage model"
   ]
  },
  {
   "cell_type": "code",
   "execution_count": null,
   "metadata": {
    "id": "sdOSIbjvI-Bz"
   },
   "outputs": [],
   "source": [
    "model1 = 'deepseek-ai/DeepSeek-R1-Distill-Qwen-1.5B'\n",
    "model2 = 'deepseek-ai/DeepSeek-R1-Distill-Qwen-7B'\n",
    "model3 = 'deepseek-ai/DeepSeek-R1-Distill-Llama-8B'\n",
    "model4 = 'deepseek-ai/DeepSeek-R1-Distill-Qwen-14B'\n",
    "model5 = 'deepseek-ai/DeepSeek-R1-Distill-Qwen-32B'\n",
    "model6 = 'deepseek-ai/DeepSeek-R1-Distill-Llama-70B'\n",
    "model7 = 'Qwen/QwQ-32B'\n",
    "model8 = 'Qwen/Qwen2.5-Coder-1.5B-Instruct'\n",
    "model9 = 'Qwen/Qwen2.5-7B-Instruct'\n",
    "model10 = 'Qwen/Qwen2.5-14B-Instruct'\n",
    "model11 = \"distilgpt2\"\n",
    "model12 = \"facebook/opt-1.3b\""
   ]
  },
  {
   "cell_type": "code",
   "execution_count": null,
   "metadata": {
    "id": "2UlYWnwSONVl"
   },
   "outputs": [],
   "source": [
    "from IPython.display import Markdown, display"
   ]
  },
  {
   "cell_type": "markdown",
   "metadata": {
    "id": "OmaaYtPQX7Vl"
   },
   "source": [
    "## Fucntions\n",
    "- `load_model` use for get model and tokenize from transformer\n",
    "- `get_size` to check size of model\n",
    "- `use_gpu` to use cuda GPU instead run on CPU if available\n",
    "- `gen_chat_pipe1` use model and tokenize from `load_model`\n",
    "- `pipe_load` easier way to load model without pre-load model\n",
    "- `gen_text_pipe` use pipe from `pipe_load`\n",
    "- `gen_text_model` use model and tokenize from pre-load from `load_model`\n"
   ]
  },
  {
   "cell_type": "code",
   "execution_count": null,
   "metadata": {
    "id": "2PEAKj5dI4MG"
   },
   "outputs": [],
   "source": [
    "from transformers import AutoModelForCausalLM, AutoTokenizer\n",
    "import torch\n",
    "\n",
    "def load_model(model_name):\n",
    "  model_name = model_name  # or other model\n",
    "  token = \"xxxxxxxxxxxxxxxxxxxxxxxxx\"  # Replace with your actual token\n",
    "\n",
    "  try:\n",
    "      model = AutoModelForCausalLM.from_pretrained(model_name, token=token)\n",
    "      tokenizer = AutoTokenizer.from_pretrained(model_name, token=token)\n",
    "      print(\"Model and tokenizer loaded successfully!\")\n",
    "\n",
    "      return model, tokenizer\n",
    "\n",
    "  except OSError as e:\n",
    "      print(f\"Error: {e}\")\n",
    "      print(\"Please verify the model name and ensure you have the correct token.\")\n",
    "\n",
    "\n",
    "# Get the size of the model in memory\n",
    "def get_size(model):\n",
    "  param_size = 0\n",
    "  for param in model.parameters():\n",
    "      param_size += param.nelement() * param.element_size()\n",
    "\n",
    "  buffer_size = 0\n",
    "  for buffer in model.buffers():\n",
    "      buffer_size += buffer.nelement() * buffer.element_size()\n",
    "\n",
    "  size_all_mb = (param_size + buffer_size) / 1024**2\n",
    "  print(f\"Model size: {size_all_mb:.2f} MB\")\n",
    "\n",
    "# use GPU cuda\n",
    "def use_gpu(model):\n",
    "  if torch.cuda.is_available():\n",
    "      device = 0\n",
    "      print(\"GPU available\")\n",
    "  else:\n",
    "      device = -1\n",
    "      print(\"No GPU available\")\n",
    "\n",
    "from transformers import pipeline\n",
    "from transformers import AutoModelForCausalLM, AutoTokenizer\n",
    "\n",
    "def gen_chat_pipe1(model, tokenizer, content:str, device, max_new_tokens=1024):\n",
    "\n",
    "  pipe = pipeline(\"text-generation\", model=model, tokenizer=tokenizer, device=device)\n",
    "  # pipe = pipeline(\"chat-generation\", model=model, tokenizer=tokenizer)\n",
    "\n",
    "\n",
    "  message  = [\n",
    "      {'role':\"user\",'content':content}\n",
    "  ]\n",
    "\n",
    "  result = pipe(message, max_new_tokens=max_new_tokens)\n",
    "\n",
    "  return result\n",
    "\n",
    "def pipe_load(model_name, device, max_length=5000):\n",
    "  # Create the pipeline\n",
    "  pipe = pipeline(\"text-generation\", model=model_name, max_length=max_length, num_return_sequences=1, device=device)\n",
    "\n",
    "  return pipe\n",
    "\n",
    "def gen_text_pipe(pipe, message:str, truncation=True, max_new_tokens=1024):\n",
    "  # Generate the result\n",
    "  result = pipe(message, truncation=truncation, max_new_tokens=1024)\n",
    "\n",
    "  return pipe, result[0]\n",
    "\n",
    "def gen_text_model(model, tokenizer, content: str, max_length=1000):\n",
    "\n",
    "    device = model.device  # Get the model's device (CPU or CUDA)\n",
    "\n",
    "    inputs = tokenizer(content, return_tensors=\"pt\").to(device)  # Move inputs to same device as model\n",
    "    output_ids = model.generate(**inputs, max_length=max_length)\n",
    "\n",
    "    response = tokenizer.decode(output_ids[0], skip_special_tokens=True).strip()\n",
    "\n",
    "    # Remove the question if it appears at the beginning\n",
    "    if response.startswith(content):\n",
    "        response = response[len(content):].strip()\n",
    "\n",
    "    # After removing question, if the first character is weird (like \"?\" or newline), remove it\n",
    "    response = response.lstrip(\" .?\\n\")\n",
    "\n",
    "    # # (Optional) If there's any \"Assistant:\" marker, clean it too\n",
    "    # if \"Assistant:\" in response:\n",
    "    #     response = response.split(\"Assistant:\", 1)[-1].strip()\n",
    "\n",
    "    return output_ids , response"
   ]
  },
  {
   "cell_type": "markdown",
   "metadata": {
    "id": "tdPYivjWvT3p"
   },
   "source": [
    "## Usage case\n",
    "**Description**: using Prompt-based Generation with *Qwen/Qwen2.5-Coder-1.5B-Instruct* model"
   ]
  },
  {
   "cell_type": "code",
   "execution_count": null,
   "metadata": {
    "colab": {
     "base_uri": "https://localhost:8080/",
     "height": 330,
     "referenced_widgets": [
      "d5b68d4d67be4b0eaffd2c075f9079ab",
      "09c6cea193bf4e05a51f8d2f259a5295",
      "18d85d30b7de49a3bfc5aa6cc2387166",
      "9dc8d0073cd24f5297fc6beb2a1a74d6",
      "2bf47908633f490f9d879291b8a3b9a2",
      "6df31d453c404bc78b9dde87e9565a2f",
      "5c153dd935694b4a8234bb22fff94830",
      "ca65b202fa8740eeba1edf86ee16a11a",
      "b1cba7524149443aad33f365a935f86b",
      "98634a3447144f1bb5c1078681c3e60e",
      "eb37aed4a799467ba2f9f8ca1dc92f99",
      "acc0fd3a06da4ab884c069e740ef0eae",
      "7bedca32252046ceaedfceeeb0efb300",
      "e7fe8c7195ea44dcac29a276a39ae4b2",
      "693b45c0771648dd9a7a00bd79a7da6f",
      "cd09c27f44424d09b9e2aec242341347",
      "df33fb440f294469b33c74576ce8f350",
      "62985e3e62f54b1599cee8cd578ea06d",
      "1b3f9bbd7afb4c1ca7f642da17ed044b",
      "c57c34adc6f24266abd90a3359f0fe32",
      "1020d2503d0d49d2bc499a84724df9fd",
      "58dd9cface0e4673890b4f5545b64629",
      "49058f72c7e040a78436651dc8704089",
      "17bf595c5b954a6da8765513913dfff5",
      "ff45fe6c38024393823f8617077a0eab",
      "02da25d085a74b46997ac751e32aa8c4",
      "1b8dc0945fe64520bd6306898c86c07b",
      "79eb9670707943f9aaf2dc8005956abc",
      "54c06e0f5c0e4af6bdbfd488ebbf208b",
      "8827a8c3366848c1ac115dec739c4fa8",
      "69bd51f2c49948709f6a703ea80a3f82",
      "d393f204e2644fee9e35a4ae3f7abd4f",
      "3d7871a0e11e463a89a3c009bfd3d623",
      "5c3728bb1f904e489c3c988aa8e7a01e",
      "22306d1375c24a738c593caa5b5a4f41",
      "35fdef5fdf0a485da2b6cd13a2d627b2",
      "b4aa032c5ac04eaabe72f35a5df394b2",
      "cf3b4e1b87ee4d7b8d4a02d7c6f2de37",
      "9bd45051ea7e4ec6882ef42c2eb143ea",
      "524e2c1c06d94896960f2649892b682f",
      "4eae1ed2349145b18d13b7569b5f52b3",
      "98127cff02f247bab4d7c24bc1fdc151",
      "279802e68e9146c38a2b0015cdd01502",
      "3921806cefe04610aa611dae8c586662",
      "623c03c568114cf8acb3990c999bd578",
      "5c072eafdf374e669e11fc9510f9ff9e",
      "6475303b353d4bfb8ae071c33735b790",
      "75aaa7e048c44e65909f2ac4a409c0cf",
      "bbd3739f5e3c4e49a5a8187d4c89beee",
      "4dddf51ab187418995acc74da3df3833",
      "8fa32128d911494296ccee0f2ad43575",
      "2258ea745f7148d4af79012689b48aa9",
      "125fa756eb5e42858cf47897985f6a15",
      "d4d3286432d044b2ba6a26ad57151b99",
      "c24f5f5cb37b42dd9ff0911c3e903c0e",
      "fd557b692034432fa0ed5d6a302e79a4",
      "45f2a72a91ed443bb78e11ff7aad25eb",
      "6a3650010c434f0593f3dec42aa7a20b",
      "feaa96661a5548918e76674377c50fb5",
      "28cd930d5f01450db821cdd3e0490e4b",
      "0f2d309ad60542e4940e9e564bfdcd63",
      "532ce094719b48ecad9e45eea6295d26",
      "6bbb38b6b62740aa92388c65c7a578a3",
      "b74d7f0fce2f46b19e07b7b7e667c2ad",
      "57cb397c7c094cdcae58cfb25152a080",
      "e58d6e449abd40da9828abedbf285aed",
      "d88e20aeea79447ba32942993ab359a9",
      "296f459ce1c74d44a6906ac07e980769",
      "8be6c67ca225455c8a556860043968c8",
      "a1bbc3ad8e9c41e9a082227b12a7da87",
      "ce00bc49ed0742ed8780a8d603ae12f6",
      "0d458b15d0b74c1fba0f8976fada166e",
      "11cdea49973d4a9c938a03f91c1fcb3b",
      "2be40d7af2eb4acaa9ef8e9a6fc043a6",
      "2585147887874297b39b50737333201d",
      "f1e7fcc8d6354716ac22e98a3afee4f6",
      "6d9f09dc1f8c4847a77d3b2dad255b79"
     ]
    },
    "id": "Vyuyya-HLkJ5",
    "outputId": "9a682ac8-fd7e-4b77-d8ed-f878d8ad49a2"
   },
   "outputs": [
    {
     "data": {
      "application/vnd.jupyter.widget-view+json": {
       "model_id": "d5b68d4d67be4b0eaffd2c075f9079ab",
       "version_major": 2,
       "version_minor": 0
      },
      "text/plain": [
       "config.json:   0%|          | 0.00/660 [00:00<?, ?B/s]"
      ]
     },
     "metadata": {},
     "output_type": "display_data"
    },
    {
     "name": "stderr",
     "output_type": "stream",
     "text": [
      "Xet Storage is enabled for this repo, but the 'hf_xet' package is not installed. Falling back to regular HTTP download. For better performance, install the package with: `pip install huggingface_hub[hf_xet]` or `pip install hf_xet`\n",
      "WARNING:huggingface_hub.file_download:Xet Storage is enabled for this repo, but the 'hf_xet' package is not installed. Falling back to regular HTTP download. For better performance, install the package with: `pip install huggingface_hub[hf_xet]` or `pip install hf_xet`\n"
     ]
    },
    {
     "data": {
      "application/vnd.jupyter.widget-view+json": {
       "model_id": "acc0fd3a06da4ab884c069e740ef0eae",
       "version_major": 2,
       "version_minor": 0
      },
      "text/plain": [
       "model.safetensors:   0%|          | 0.00/3.09G [00:00<?, ?B/s]"
      ]
     },
     "metadata": {},
     "output_type": "display_data"
    },
    {
     "name": "stderr",
     "output_type": "stream",
     "text": [
      "Sliding Window Attention is enabled but not implemented for `sdpa`; unexpected results may be encountered.\n"
     ]
    },
    {
     "data": {
      "application/vnd.jupyter.widget-view+json": {
       "model_id": "49058f72c7e040a78436651dc8704089",
       "version_major": 2,
       "version_minor": 0
      },
      "text/plain": [
       "generation_config.json:   0%|          | 0.00/242 [00:00<?, ?B/s]"
      ]
     },
     "metadata": {},
     "output_type": "display_data"
    },
    {
     "data": {
      "application/vnd.jupyter.widget-view+json": {
       "model_id": "5c3728bb1f904e489c3c988aa8e7a01e",
       "version_major": 2,
       "version_minor": 0
      },
      "text/plain": [
       "tokenizer_config.json:   0%|          | 0.00/7.30k [00:00<?, ?B/s]"
      ]
     },
     "metadata": {},
     "output_type": "display_data"
    },
    {
     "data": {
      "application/vnd.jupyter.widget-view+json": {
       "model_id": "623c03c568114cf8acb3990c999bd578",
       "version_major": 2,
       "version_minor": 0
      },
      "text/plain": [
       "vocab.json:   0%|          | 0.00/2.78M [00:00<?, ?B/s]"
      ]
     },
     "metadata": {},
     "output_type": "display_data"
    },
    {
     "data": {
      "application/vnd.jupyter.widget-view+json": {
       "model_id": "fd557b692034432fa0ed5d6a302e79a4",
       "version_major": 2,
       "version_minor": 0
      },
      "text/plain": [
       "merges.txt:   0%|          | 0.00/1.67M [00:00<?, ?B/s]"
      ]
     },
     "metadata": {},
     "output_type": "display_data"
    },
    {
     "data": {
      "application/vnd.jupyter.widget-view+json": {
       "model_id": "d88e20aeea79447ba32942993ab359a9",
       "version_major": 2,
       "version_minor": 0
      },
      "text/plain": [
       "tokenizer.json:   0%|          | 0.00/7.03M [00:00<?, ?B/s]"
      ]
     },
     "metadata": {},
     "output_type": "display_data"
    },
    {
     "name": "stdout",
     "output_type": "stream",
     "text": [
      "Model and tokenizer loaded successfully!\n"
     ]
    }
   ],
   "source": [
    "model, tokenizer = load_model(model8)"
   ]
  },
  {
   "cell_type": "code",
   "execution_count": null,
   "metadata": {
    "colab": {
     "base_uri": "https://localhost:8080/"
    },
    "id": "I_6qPFc0I5Pn",
    "outputId": "44ddc7a0-4a11-40b4-fd41-1b3d54b99390"
   },
   "outputs": [
    {
     "name": "stdout",
     "output_type": "stream",
     "text": [
      "GPU available\n"
     ]
    }
   ],
   "source": [
    "use_gpu(model)"
   ]
  },
  {
   "cell_type": "code",
   "execution_count": null,
   "metadata": {
    "colab": {
     "base_uri": "https://localhost:8080/",
     "height": 35
    },
    "id": "9DFCI9EpUl3v",
    "outputId": "0063e435-ad1a-4067-f139-ca2fbe63a791"
   },
   "outputs": [
    {
     "data": {
      "application/vnd.google.colaboratory.intrinsic+json": {
       "type": "string"
      },
      "text/plain": [
       "'Qwen/Qwen2.5-Coder-1.5B-Instruct'"
      ]
     },
     "execution_count": 69,
     "metadata": {},
     "output_type": "execute_result"
    }
   ],
   "source": [
    "model8"
   ]
  },
  {
   "cell_type": "code",
   "execution_count": null,
   "metadata": {
    "colab": {
     "base_uri": "https://localhost:8080/"
    },
    "id": "qdVXuQ7iUUY4",
    "outputId": "dd472f3f-8e43-4429-f2c4-78cf0864ea47"
   },
   "outputs": [
    {
     "data": {
      "text/plain": [
       "Qwen2ForCausalLM(\n",
       "  (model): Qwen2Model(\n",
       "    (embed_tokens): Embedding(151936, 1536)\n",
       "    (layers): ModuleList(\n",
       "      (0-27): 28 x Qwen2DecoderLayer(\n",
       "        (self_attn): Qwen2Attention(\n",
       "          (q_proj): Linear(in_features=1536, out_features=1536, bias=True)\n",
       "          (k_proj): Linear(in_features=1536, out_features=256, bias=True)\n",
       "          (v_proj): Linear(in_features=1536, out_features=256, bias=True)\n",
       "          (o_proj): Linear(in_features=1536, out_features=1536, bias=False)\n",
       "        )\n",
       "        (mlp): Qwen2MLP(\n",
       "          (gate_proj): Linear(in_features=1536, out_features=8960, bias=False)\n",
       "          (up_proj): Linear(in_features=1536, out_features=8960, bias=False)\n",
       "          (down_proj): Linear(in_features=8960, out_features=1536, bias=False)\n",
       "          (act_fn): SiLU()\n",
       "        )\n",
       "        (input_layernorm): Qwen2RMSNorm((1536,), eps=1e-06)\n",
       "        (post_attention_layernorm): Qwen2RMSNorm((1536,), eps=1e-06)\n",
       "      )\n",
       "    )\n",
       "    (norm): Qwen2RMSNorm((1536,), eps=1e-06)\n",
       "    (rotary_emb): Qwen2RotaryEmbedding()\n",
       "  )\n",
       "  (lm_head): Linear(in_features=1536, out_features=151936, bias=False)\n",
       ")"
      ]
     },
     "execution_count": 65,
     "metadata": {},
     "output_type": "execute_result"
    }
   ],
   "source": [
    "model"
   ]
  },
  {
   "cell_type": "code",
   "execution_count": null,
   "metadata": {
    "colab": {
     "base_uri": "https://localhost:8080/"
    },
    "id": "K0dHdBvxI6LS",
    "outputId": "2e5f43ad-6eb1-4e85-f8e1-5ce7fbe3e6ab"
   },
   "outputs": [
    {
     "name": "stdout",
     "output_type": "stream",
     "text": [
      "Model size: 5888.80 MB\n"
     ]
    }
   ],
   "source": [
    "get_size(model)"
   ]
  },
  {
   "cell_type": "markdown",
   "metadata": {
    "id": "f8dAORn-wA9U"
   },
   "source": [
    "\n",
    "\n",
    "---\n",
    "\n"
   ]
  },
  {
   "cell_type": "markdown",
   "metadata": {
    "id": "N46nMxLWp74S"
   },
   "source": [
    "### Example 1\n",
    "use function `gen_chat_pipe1()` and use laoded model from `load_model`"
   ]
  },
  {
   "cell_type": "code",
   "execution_count": null,
   "metadata": {
    "colab": {
     "base_uri": "https://localhost:8080/"
    },
    "id": "72cVCvZHI4cf",
    "outputId": "8c7a42f5-4037-47ca-8be5-10e2c2a5baa1"
   },
   "outputs": [
    {
     "name": "stderr",
     "output_type": "stream",
     "text": [
      "Device set to use cuda:0\n"
     ]
    }
   ],
   "source": [
    "answer1 = gen_chat_pipe1(model, tokenizer, \"How to sleep well ?\")"
   ]
  },
  {
   "cell_type": "code",
   "execution_count": null,
   "metadata": {
    "colab": {
     "base_uri": "https://localhost:8080/"
    },
    "id": "vi51XpQwNd0U",
    "outputId": "6ca6ca46-7bf9-41e3-e9e0-3f56291a8a0b"
   },
   "outputs": [
    {
     "data": {
      "text/plain": [
       "[{'generated_text': [{'role': 'user', 'content': 'How to sleep well ?'},\n",
       "   {'role': 'assistant',\n",
       "    'content': \"Sleeping well is crucial for maintaining good health and productivity. Here are some tips that can help you get a better night's rest:\\n\\n1. Establish a regular sleep schedule: Try to go to bed and wake up at the same time every day, even on weekends.\\n\\n2. Create a relaxing bedtime routine: Engage in activities that promote relaxation, such as reading, meditation, or taking a warm bath.\\n\\n3. Avoid caffeine and alcohol before bedtime: These can interfere with your ability to fall asleep.\\n\\n4. Limit screen time before bedtime: The blue light from electronic devices can suppress melatonin production, making it difficult to fall asleep.\\n\\n5. Create a comfortable sleeping environment: Make sure your bedroom is dark, quiet, and cool. Use blackout curtains or eye masks if necessary.\\n\\n6. Exercise regularly: Regular physical activity can help improve your sleep quality, but avoid exercising too close to bedtime.\\n\\n7. Manage stress: Stress can affect your ability to fall asleep. Try techniques such as deep breathing, progressive muscle relaxation, or yoga to manage stress.\\n\\nRemember, everyone has different sleep needs, so it may take some experimentation to find what works best for you.\"}]}]"
      ]
     },
     "execution_count": 21,
     "metadata": {},
     "output_type": "execute_result"
    }
   ],
   "source": [
    "answer1"
   ]
  },
  {
   "cell_type": "code",
   "execution_count": null,
   "metadata": {
    "colab": {
     "base_uri": "https://localhost:8080/",
     "height": 174
    },
    "id": "atrUGBfcO4Hk",
    "outputId": "5313e5f4-745e-4bc2-90f5-ea40be27fad7"
   },
   "outputs": [
    {
     "data": {
      "application/vnd.google.colaboratory.intrinsic+json": {
       "type": "string"
      },
      "text/plain": [
       "\"Sleeping well is crucial for maintaining good health and productivity. Here are some tips that can help you get a better night's rest:\\n\\n1. Establish a regular sleep schedule: Try to go to bed and wake up at the same time every day, even on weekends.\\n\\n2. Create a relaxing bedtime routine: Engage in activities that promote relaxation, such as reading, meditation, or taking a warm bath.\\n\\n3. Avoid caffeine and alcohol before bedtime: These can interfere with your ability to fall asleep.\\n\\n4. Limit screen time before bedtime: The blue light from electronic devices can suppress melatonin production, making it difficult to fall asleep.\\n\\n5. Create a comfortable sleeping environment: Make sure your bedroom is dark, quiet, and cool. Use blackout curtains or eye masks if necessary.\\n\\n6. Exercise regularly: Regular physical activity can help improve your sleep quality, but avoid exercising too close to bedtime.\\n\\n7. Manage stress: Stress can affect your ability to fall asleep. Try techniques such as deep breathing, progressive muscle relaxation, or yoga to manage stress.\\n\\nRemember, everyone has different sleep needs, so it may take some experimentation to find what works best for you.\""
      ]
     },
     "execution_count": 36,
     "metadata": {},
     "output_type": "execute_result"
    }
   ],
   "source": [
    "answer1[0]['generated_text'][1]['content']"
   ]
  },
  {
   "cell_type": "code",
   "execution_count": null,
   "metadata": {
    "id": "owiqWjhiPjQo"
   },
   "outputs": [],
   "source": [
    "assistant_msg = next(\n",
    "    (msg[\"content\"] for msg in answer1[0][\"generated_text\"] if msg.get(\"role\") == \"assistant\"),\n",
    "    None\n",
    ")\n"
   ]
  },
  {
   "cell_type": "code",
   "execution_count": null,
   "metadata": {
    "colab": {
     "base_uri": "https://localhost:8080/",
     "height": 304
    },
    "id": "yELD9z6dPkmC",
    "outputId": "8cb7ea2c-b847-4d7d-ea4c-0d9924908178"
   },
   "outputs": [
    {
     "data": {
      "text/html": [
       "<pre style=\"white-space:pre;overflow-x:auto;line-height:normal;font-family:Menlo,'DejaVu Sans Mono',consolas,'Courier New',monospace\">Sleeping well is crucial for maintaining good health and productivity. Here are some tips that can help you get a  \n",
       "better night's rest:                                                                                               \n",
       "\n",
       "<span style=\"color: #808000; text-decoration-color: #808000; font-weight: bold\"> 1 </span>Establish a regular sleep schedule: Try to go to bed and wake up at the same time every day, even on weekends.  \n",
       "<span style=\"color: #808000; text-decoration-color: #808000; font-weight: bold\"> 2 </span>Create a relaxing bedtime routine: Engage in activities that promote relaxation, such as reading, meditation, or\n",
       "<span style=\"color: #808000; text-decoration-color: #808000; font-weight: bold\">   </span>taking a warm bath.                                                                                             \n",
       "<span style=\"color: #808000; text-decoration-color: #808000; font-weight: bold\"> 3 </span>Avoid caffeine and alcohol before bedtime: These can interfere with your ability to fall asleep.                \n",
       "<span style=\"color: #808000; text-decoration-color: #808000; font-weight: bold\"> 4 </span>Limit screen time before bedtime: The blue light from electronic devices can suppress melatonin production,     \n",
       "<span style=\"color: #808000; text-decoration-color: #808000; font-weight: bold\">   </span>making it difficult to fall asleep.                                                                             \n",
       "<span style=\"color: #808000; text-decoration-color: #808000; font-weight: bold\"> 5 </span>Create a comfortable sleeping environment: Make sure your bedroom is dark, quiet, and cool. Use blackout        \n",
       "<span style=\"color: #808000; text-decoration-color: #808000; font-weight: bold\">   </span>curtains or eye masks if necessary.                                                                             \n",
       "<span style=\"color: #808000; text-decoration-color: #808000; font-weight: bold\"> 6 </span>Exercise regularly: Regular physical activity can help improve your sleep quality, but avoid exercising too     \n",
       "<span style=\"color: #808000; text-decoration-color: #808000; font-weight: bold\">   </span>close to bedtime.                                                                                               \n",
       "<span style=\"color: #808000; text-decoration-color: #808000; font-weight: bold\"> 7 </span>Manage stress: Stress can affect your ability to fall asleep. Try techniques such as deep breathing, progressive\n",
       "<span style=\"color: #808000; text-decoration-color: #808000; font-weight: bold\">   </span>muscle relaxation, or yoga to manage stress.                                                                    \n",
       "\n",
       "Remember, everyone has different sleep needs, so it may take some experimentation to find what works best for you. \n",
       "</pre>\n"
      ],
      "text/plain": [
       "Sleeping well is crucial for maintaining good health and productivity. Here are some tips that can help you get a  \n",
       "better night's rest:                                                                                               \n",
       "\n",
       "\u001b[1;33m 1 \u001b[0mEstablish a regular sleep schedule: Try to go to bed and wake up at the same time every day, even on weekends.  \n",
       "\u001b[1;33m 2 \u001b[0mCreate a relaxing bedtime routine: Engage in activities that promote relaxation, such as reading, meditation, or\n",
       "\u001b[1;33m   \u001b[0mtaking a warm bath.                                                                                             \n",
       "\u001b[1;33m 3 \u001b[0mAvoid caffeine and alcohol before bedtime: These can interfere with your ability to fall asleep.                \n",
       "\u001b[1;33m 4 \u001b[0mLimit screen time before bedtime: The blue light from electronic devices can suppress melatonin production,     \n",
       "\u001b[1;33m   \u001b[0mmaking it difficult to fall asleep.                                                                             \n",
       "\u001b[1;33m 5 \u001b[0mCreate a comfortable sleeping environment: Make sure your bedroom is dark, quiet, and cool. Use blackout        \n",
       "\u001b[1;33m   \u001b[0mcurtains or eye masks if necessary.                                                                             \n",
       "\u001b[1;33m 6 \u001b[0mExercise regularly: Regular physical activity can help improve your sleep quality, but avoid exercising too     \n",
       "\u001b[1;33m   \u001b[0mclose to bedtime.                                                                                               \n",
       "\u001b[1;33m 7 \u001b[0mManage stress: Stress can affect your ability to fall asleep. Try techniques such as deep breathing, progressive\n",
       "\u001b[1;33m   \u001b[0mmuscle relaxation, or yoga to manage stress.                                                                    \n",
       "\n",
       "Remember, everyone has different sleep needs, so it may take some experimentation to find what works best for you. \n"
      ]
     },
     "metadata": {},
     "output_type": "display_data"
    }
   ],
   "source": [
    "from rich.console import Console\n",
    "from rich.markdown import Markdown\n",
    "\n",
    "console = Console()\n",
    "\n",
    "if assistant_msg:\n",
    "    console.print(Markdown(assistant_msg))\n"
   ]
  },
  {
   "cell_type": "markdown",
   "metadata": {
    "id": "OsvTYPPbOqjJ"
   },
   "source": [
    "\n",
    "\n",
    "---\n",
    "\n"
   ]
  },
  {
   "cell_type": "markdown",
   "metadata": {
    "id": "krI_qsZMp_UU"
   },
   "source": [
    "### Example 2\n",
    "use function `pipe_load` and `gen_text_pipe`"
   ]
  },
  {
   "cell_type": "code",
   "execution_count": null,
   "metadata": {
    "colab": {
     "base_uri": "https://localhost:8080/"
    },
    "id": "HAHD-A_RNG-J",
    "outputId": "9af4701c-cf42-4eb9-bebc-274da31db9c7"
   },
   "outputs": [
    {
     "name": "stderr",
     "output_type": "stream",
     "text": [
      "/usr/local/lib/python3.11/dist-packages/huggingface_hub/utils/_auth.py:94: UserWarning: \n",
      "The secret `HF_TOKEN` does not exist in your Colab secrets.\n",
      "To authenticate with the Hugging Face Hub, create a token in your settings tab (https://huggingface.co/settings/tokens), set it as secret in your Google Colab and restart your session.\n",
      "You will be able to reuse this secret in all of your notebooks.\n",
      "Please note that authentication is recommended but still optional to access public models or datasets.\n",
      "  warnings.warn(\n",
      "Device set to use cuda:0\n"
     ]
    }
   ],
   "source": [
    "pipe = pipe_load(model8)"
   ]
  },
  {
   "cell_type": "code",
   "execution_count": null,
   "metadata": {
    "id": "jiKL1zhmNPHt"
   },
   "outputs": [],
   "source": [
    "answer2 = gen_text_pipe(pipe, \"How to sleep well ?\")"
   ]
  },
  {
   "cell_type": "code",
   "execution_count": null,
   "metadata": {
    "colab": {
     "base_uri": "https://localhost:8080/"
    },
    "id": "jBiK6EsENase",
    "outputId": "40435447-6ddc-4e04-f2d9-6e3b23a289d2"
   },
   "outputs": [
    {
     "data": {
      "text/plain": [
       "(<transformers.pipelines.text_generation.TextGenerationPipeline at 0x7fc2b2eef790>,\n",
       " {'generated_text': \"How to sleep well ? How do you feel when you go to bed at night?\\n\\nTo sleep well, it's important to establish a regular bedtime routine and create an environment that is conducive to relaxation. Here are some tips:\\n\\n1. Establish a regular bedtime routine: This can include activities such as reading, meditation, or exercise.\\n\\n2. Create a comfortable sleeping environment: Make sure your bedroom is dark, quiet, and cool. Use comfortable bedding and pillows.\\n\\n3. Avoid caffeine and alcohol before bedtime: These can interfere with sleep quality.\\n\\n4. Limit screen time before bedtime: The blue light from screens can suppress melatonin production, making it harder to fall asleep.\\n\\n5. Practice relaxation techniques: Activities such as deep breathing, progressive muscle relaxation, or yoga can help reduce stress and improve sleep quality.\\n\\nWhen you go to bed at night, try to relax and prepare yourself for sleep. If you find it difficult to fall asleep, try to stay in bed for the same amount of time each day and avoid napping during the day. If your sleep problems persist, consider consulting a healthcare professional.\"})"
      ]
     },
     "execution_count": 20,
     "metadata": {},
     "output_type": "execute_result"
    }
   ],
   "source": [
    "answer2"
   ]
  },
  {
   "cell_type": "code",
   "execution_count": null,
   "metadata": {
    "colab": {
     "base_uri": "https://localhost:8080/",
     "height": 174
    },
    "id": "7APK31ZgN-eE",
    "outputId": "9b7d95b0-603f-4f4a-89e0-6ce1620fdb63"
   },
   "outputs": [
    {
     "data": {
      "application/vnd.google.colaboratory.intrinsic+json": {
       "type": "string"
      },
      "text/plain": [
       "\"How to sleep well ? How do you feel when you go to bed at night?\\n\\nTo sleep well, it's important to establish a regular bedtime routine and create an environment that is conducive to relaxation. Here are some tips:\\n\\n1. Establish a regular bedtime routine: This can include activities such as reading, meditation, or exercise.\\n\\n2. Create a comfortable sleeping environment: Make sure your bedroom is dark, quiet, and cool. Use comfortable bedding and pillows.\\n\\n3. Avoid caffeine and alcohol before bedtime: These can interfere with sleep quality.\\n\\n4. Limit screen time before bedtime: The blue light from screens can suppress melatonin production, making it harder to fall asleep.\\n\\n5. Practice relaxation techniques: Activities such as deep breathing, progressive muscle relaxation, or yoga can help reduce stress and improve sleep quality.\\n\\nWhen you go to bed at night, try to relax and prepare yourself for sleep. If you find it difficult to fall asleep, try to stay in bed for the same amount of time each day and avoid napping during the day. If your sleep problems persist, consider consulting a healthcare professional.\""
      ]
     },
     "execution_count": 28,
     "metadata": {},
     "output_type": "execute_result"
    }
   ],
   "source": [
    "answer2[1]['generated_text']"
   ]
  },
  {
   "cell_type": "code",
   "execution_count": null,
   "metadata": {
    "colab": {
     "base_uri": "https://localhost:8080/",
     "height": 261
    },
    "id": "-ZOBMMt4Oh8F",
    "outputId": "255d9c7a-eba3-4aec-ae70-8815e0c40d5f"
   },
   "outputs": [
    {
     "data": {
      "text/markdown": [
       "How to sleep well ? How do you feel when you go to bed at night?\n",
       "\n",
       "To sleep well, it's important to establish a regular bedtime routine and create an environment that is conducive to relaxation. Here are some tips:\n",
       "\n",
       "1. Establish a regular bedtime routine: This can include activities such as reading, meditation, or exercise.\n",
       "\n",
       "2. Create a comfortable sleeping environment: Make sure your bedroom is dark, quiet, and cool. Use comfortable bedding and pillows.\n",
       "\n",
       "3. Avoid caffeine and alcohol before bedtime: These can interfere with sleep quality.\n",
       "\n",
       "4. Limit screen time before bedtime: The blue light from screens can suppress melatonin production, making it harder to fall asleep.\n",
       "\n",
       "5. Practice relaxation techniques: Activities such as deep breathing, progressive muscle relaxation, or yoga can help reduce stress and improve sleep quality.\n",
       "\n",
       "When you go to bed at night, try to relax and prepare yourself for sleep. If you find it difficult to fall asleep, try to stay in bed for the same amount of time each day and avoid napping during the day. If your sleep problems persist, consider consulting a healthcare professional."
      ],
      "text/plain": [
       "<IPython.core.display.Markdown object>"
      ]
     },
     "metadata": {},
     "output_type": "display_data"
    }
   ],
   "source": [
    "display(Markdown(answer2[1]['generated_text']))"
   ]
  },
  {
   "cell_type": "markdown",
   "metadata": {
    "id": "zkhIdpmkOuMw"
   },
   "source": [
    "\n",
    "\n",
    "---\n",
    "\n"
   ]
  },
  {
   "cell_type": "markdown",
   "metadata": {
    "id": "FVnLTgQDqBaT"
   },
   "source": [
    "### Example 3\n",
    "use function `gen_text_model` from model that loaded from `load_model`"
   ]
  },
  {
   "cell_type": "code",
   "execution_count": null,
   "metadata": {
    "id": "lpdAGzJcNf54"
   },
   "outputs": [],
   "source": [
    "output_ids , answer3 = gen_text_model(model, tokenizer, \"How to sleep well ?\")"
   ]
  },
  {
   "cell_type": "code",
   "execution_count": null,
   "metadata": {
    "colab": {
     "base_uri": "https://localhost:8080/",
     "height": 174
    },
    "id": "znl8nInXNldg",
    "outputId": "dece677b-8a60-459b-896f-f7c3e339a277"
   },
   "outputs": [
    {
     "data": {
      "application/vnd.google.colaboratory.intrinsic+json": {
       "type": "string"
      },
      "text/plain": [
       "\"How do you feel when you are sleeping ?\\n\\nSleep is an important aspect of our lives. It helps us rest and recharge, which is essential for maintaining good health. However, not everyone gets enough quality sleep. Here are some tips on how to get better sleep:\\n\\n1. Establish a regular sleep schedule: Try to go to bed and wake up at the same time every day, even on weekends. This can help regulate your body's internal clock.\\n\\n2. Create a relaxing bedtime routine: Before going to bed, try to do something that relaxes you, such as reading a book, listening to music, or taking a warm bath.\\n\\n3. Limit exposure to light: Exposure to bright lights before bedtime can interfere with your ability to fall asleep. Try to keep your bedroom dark and quiet.\\n\\n4. Avoid caffeine and alcohol: These substances can interfere with your ability to fall asleep. Try to avoid them in the hours leading up to bedtime.\\n\\n5. Exercise regularly: Regular exercise can help improve your sleep quality. Aim for at least 30 minutes of moderate activity most days of the week.\\n\\n6. Manage stress: Stress can interfere with your ability to fall asleep. Try to manage your stress through activities such as meditation, yoga, or deep breathing exercises.\\n\\nWhen you are sleeping, it is important to feel relaxed and comfortable. You should be able to move around freely without feeling restricted or uncomfortable. If you find yourself having trouble falling asleep or staying asleep, it may be helpful to consult with a healthcare professional. They can provide you with additional advice and treatment options.\""
      ]
     },
     "execution_count": 25,
     "metadata": {},
     "output_type": "execute_result"
    }
   ],
   "source": [
    "answer3"
   ]
  },
  {
   "cell_type": "code",
   "execution_count": null,
   "metadata": {
    "colab": {
     "base_uri": "https://localhost:8080/",
     "height": 406
    },
    "id": "GYzfRfV9Oxgb",
    "outputId": "15f73911-9a25-4585-b886-d8ab6000737a"
   },
   "outputs": [
    {
     "data": {
      "text/markdown": [
       "How do you feel when you are sleeping ?\n",
       "\n",
       "Sleep is an important aspect of our lives. It helps us rest and recharge, which is essential for maintaining good health. However, not everyone gets enough quality sleep. Here are some tips on how to get better sleep:\n",
       "\n",
       "1. Establish a regular sleep schedule: Try to go to bed and wake up at the same time every day, even on weekends. This can help regulate your body's internal clock.\n",
       "\n",
       "2. Create a relaxing bedtime routine: Before going to bed, try to do something that relaxes you, such as reading a book, listening to music, or taking a warm bath.\n",
       "\n",
       "3. Limit exposure to light: Exposure to bright lights before bedtime can interfere with your ability to fall asleep. Try to keep your bedroom dark and quiet.\n",
       "\n",
       "4. Avoid caffeine and alcohol: These substances can interfere with your ability to fall asleep. Try to avoid them in the hours leading up to bedtime.\n",
       "\n",
       "5. Exercise regularly: Regular exercise can help improve your sleep quality. Aim for at least 30 minutes of moderate activity most days of the week.\n",
       "\n",
       "6. Manage stress: Stress can interfere with your ability to fall asleep. Try to manage your stress through activities such as meditation, yoga, or deep breathing exercises.\n",
       "\n",
       "When you are sleeping, it is important to feel relaxed and comfortable. You should be able to move around freely without feeling restricted or uncomfortable. If you find yourself having trouble falling asleep or staying asleep, it may be helpful to consult with a healthcare professional. They can provide you with additional advice and treatment options."
      ],
      "text/plain": [
       "<IPython.core.display.Markdown object>"
      ]
     },
     "metadata": {},
     "output_type": "display_data"
    }
   ],
   "source": [
    "display(Markdown(answer3))"
   ]
  },
  {
   "cell_type": "markdown",
   "metadata": {
    "id": "hgf4K56NUEbh"
   },
   "source": [
    "\n",
    "\n",
    "---\n",
    "\n"
   ]
  }
 ],
 "metadata": {
  "accelerator": "TPU",
  "colab": {
   "gpuType": "V28",
   "provenance": [],
   "toc_visible": true
  },
  "kernelspec": {
   "display_name": "Python 3",
   "name": "python3"
  },
  "language_info": {
   "name": "python"
  }
 },
 "nbformat": 4,
 "nbformat_minor": 0
}
