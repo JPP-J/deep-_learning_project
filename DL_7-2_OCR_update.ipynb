{
  "nbformat": 4,
  "nbformat_minor": 0,
  "metadata": {
    "colab": {
      "provenance": [],
      "toc_visible": true,
      "authorship_tag": "ABX9TyO1LbWR2lC1jjyoOVFtTooJ",
      "include_colab_link": true
    },
    "kernelspec": {
      "name": "python3",
      "display_name": "Python 3"
    },
    "language_info": {
      "name": "python"
    }
  },
  "cells": [
    {
      "cell_type": "markdown",
      "metadata": {
        "id": "view-in-github",
        "colab_type": "text"
      },
      "source": [
        "<a href=\"https://colab.research.google.com/github/JPP-J/deep-_learning_project/blob/main/DL_7-2_OCR_update.ipynb\" target=\"_parent\"><img src=\"https://colab.research.google.com/assets/colab-badge.svg\" alt=\"Open In Colab\"/></a>"
      ]
    },
    {
      "cell_type": "markdown",
      "source": [
        "# OCR extract text from picture demo Project\n",
        "\n",
        "\n",
        "- Description: Usage tessaract for extract text task from link of picture online\n",
        "- Libraries Used:\n",
        "  - image processing: opencv-python\n",
        "  - Optical Character Recognition (OCR): pytesseract\n",
        "  - web development and networking: flask, flask-ngrok, pyngrok\n",
        "- Deploy on EC2 AWS"
      ],
      "metadata": {
        "id": "_LEhjOf37lAd"
      }
    },
    {
      "cell_type": "code",
      "source": [
        "from IPython.display import IFrame\n",
        "\n",
        "# Link to the video with Google Drive's preview\n",
        "url = \"https://drive.google.com/file/d/1T1czVv9VvT2k3SsSw0VcM24fjdDJ78uI/preview\"\n",
        "\n",
        "# Embed the video using iframe\n",
        "IFrame(url, width=640, height=480)"
      ],
      "metadata": {
        "colab": {
          "base_uri": "https://localhost:8080/",
          "height": 501
        },
        "id": "2XLdea6s67yP",
        "outputId": "d7607be9-4548-4616-b0ae-3639d45ba849"
      },
      "execution_count": 6,
      "outputs": [
        {
          "output_type": "execute_result",
          "data": {
            "text/plain": [
              "<IPython.lib.display.IFrame at 0x7cc942574b90>"
            ],
            "text/html": [
              "\n",
              "        <iframe\n",
              "            width=\"640\"\n",
              "            height=\"480\"\n",
              "            src=\"https://drive.google.com/file/d/1T1czVv9VvT2k3SsSw0VcM24fjdDJ78uI/preview\"\n",
              "            frameborder=\"0\"\n",
              "            allowfullscreen\n",
              "            \n",
              "        ></iframe>\n",
              "        "
            ]
          },
          "metadata": {},
          "execution_count": 6
        }
      ]
    }
  ]
}